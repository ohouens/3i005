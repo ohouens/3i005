{
 "cells": [
  {
   "cell_type": "markdown",
   "metadata": {},
   "source": [
    "# 3i005 - projet 3 - 2019avril -"
   ]
  },
  {
   "cell_type": "markdown",
   "metadata": {},
   "source": [
    "# ANALYSE DE SEQUENCES GENOMIQUES\n",
    "L’objectif de ce projet est d’utiliser des méthodes d’analyse statistiques pour extraire de l’information des données génétiques. Un génome peut être vu en première approximation comme un suite de lettre (une sorte de livre), composé de différents éléments qui sont \"lus\" par la cellule pour lui permettre d’accomplir ses tâches. Nous verrons comment nous pouvons par l’analyse statistique de la séquence génomique (un texte) localiser ou détecter ces éléments."
   ]
  },
  {
   "cell_type": "markdown",
   "metadata": {},
   "source": [
    "## Prélude au projet"
   ]
  },
  {
   "cell_type": "code",
   "execution_count": 1,
   "metadata": {},
   "outputs": [],
   "source": [
    "import pandas as pd # package for high-performance, easy-to-use data structures and data analysis\n",
    "import numpy as np # fundamental package for scientific computing with Python"
   ]
  },
  {
   "cell_type": "code",
   "execution_count": 2,
   "metadata": {},
   "outputs": [],
   "source": [
    "import projet as pj # our own code package to answer the different problematics\n",
    "%load_ext autoreload\n",
    "%autoreload 2"
   ]
  },
  {
   "cell_type": "markdown",
   "metadata": {},
   "source": [
    "## Rappels de biologie\n",
    "Les objets que nous étudions sont des génomes d’organismes vivant. En première approximation, un génome peut être vu comme une chaîne de caractère écrite dans un alphabet à 4 lettres (A,C,GouT). Depuis le début des années 90, il est devenu de plus en plus simple de <strong>séquencer</strong> un génome (le séquençage d’un génome humain coûte à  l’heure  actuelle  un  peu  moins  de  1000$).  Cependant  on  ne  peut  pas  comprendre, simplement à partir de la séquence génomique, comment cette information est utilisée par la cellule. C’est un peu comme avoir a disposition un manuel d’instructions écrit dans une langue inconnue. On doit donc <strong>décrypter</strong> un code pour comprendre le rôle des différents éléments qui sont présents le long de ce génome.<br/>\n",
    "&nbsp;&nbsp;&nbsp;&nbsp;Dans la suite nous ne considérerons que des exemples sur des organismes unicellulaire, dont les génomes sont plus compactes et dont l’analyse statistique est plus simple.Comme première approximation, on peut distinguer deux types d’éléments d’intérêt le long des génomes, les <strong>gènes</strong> et les <strong>séquences promoteurs</strong>."
   ]
  },
  {
   "cell_type": "markdown",
   "metadata": {},
   "source": [
    "## Préliminaires: données et lecture de fichiers"
   ]
  },
  {
   "cell_type": "markdown",
   "metadata": {},
   "source": [
    "1 - Combien de nucléotides compte les chromosomes de S. cerevisae qui sont donnés ?"
   ]
  },
  {
   "cell_type": "code",
   "execution_count": 3,
   "metadata": {},
   "outputs": [
    {
     "data": {
      "text/plain": [
       "{'A': 59043, 'C': 41019, 'G': 41611, 'T': 58814}"
      ]
     },
     "execution_count": 3,
     "metadata": {},
     "output_type": "execute_result"
    }
   ],
   "source": [
    "cerevisae = pj.read_fasta(\"yeast_s_cerevisae_genomic_chr1-4.fna\")\n",
    "count = pj.nucleotide_count(cerevisae['>NC_001133.9 Saccharomyces cerevisiae S288c chromosome I, complete sequence\\n'])\n",
    "result = {\"A\":count[0], \"C\":count[1], \"G\":count[2], \"T\":count[3]}\n",
    "result"
   ]
  },
  {
   "cell_type": "markdown",
   "metadata": {},
   "source": [
    "2 - Estimer les fréquences des lettres sur le génome de S. cerevisae."
   ]
  },
  {
   "cell_type": "code",
   "execution_count": 4,
   "metadata": {},
   "outputs": [
    {
     "data": {
      "text/plain": [
       "{'A': 0.294497897619297,\n",
       " 'C': 0.20459680677550166,\n",
       " 'G': 0.207549616683376,\n",
       " 'T': 0.29335567892182535}"
      ]
     },
     "execution_count": 4,
     "metadata": {},
     "output_type": "execute_result"
    }
   ],
   "source": [
    "frequence = pj.nucleotide_frequency(cerevisae['>NC_001133.9 Saccharomyces cerevisiae S288c chromosome I, complete sequence\\n'])\n",
    "result = {\"A\":frequence[0], \"C\":frequence[1], \"G\":frequence[2], \"T\":frequence[3]}\n",
    "result"
   ]
  },
  {
   "cell_type": "markdown",
   "metadata": {},
   "source": [
    "## Annotation des régions promoteurs\n",
    "Les séquences promoteurs sont des séquences généralement situées avant les gènes. La fixation d’une protéine (appelée facteur de transcription) sur une séquence d’ADN particulière en amont du gène sera responsable de sa transcription. On peut donc voir ces séquences de fixation comme des \"interrupteurs\" qui, quand il sont activés, lancent la production d’un gène et de la protéine correspondante suivant l’état de la cellule. En terme de séquence, ces facteurs de transcription se fixent donc sur des mots de 6 à 10 lettres en général."
   ]
  },
  {
   "cell_type": "markdown",
   "metadata": {},
   "source": [
    "## Description Empirique, préliminaires\n",
    "Détecter les sites de fixations avec des expériences biologiques prend beaucoup de temps et est coûteux, on veut donc pouvoir avoir des méthodes qui permettent de les connaître directement avec l’analyse de la séquence. Par contre on peut facilement détecter un ensemble de gènes qui sont activés au même moment. La question en suite est de trouver, en amont du gène, les motifs commun qui seront responsable de l’activation. Pour pouvoir prédire automatiquement les mots qui pourraient correspondre à  des  sites  de  fixation  des  facteurs  de  transcription,  nous  allons  utiliser  le  fait  que ceux ci devraient être \"inattendus\" eu égard à la composition en nucléotide. On part du principe que si un mot est \"important\" pour la cellule, il apparaitra relativement plus souvent que les autres mots de la même longueur et plus que ce qu’on attendrait au hasard. On va analyser les séquences dans les fichiers regulatory_seq_PHO.fasta, regulatory_seqs_GAL.fasta et regulatory_seqs_MET.fasta.<br/>\n",
    "Pour simplifier l’analyse, on considère qu’on <strong>concatène</strong> l’ensemble des séquences dechaque fichier. On travaille donc uniquement avec une liste d’entier à chaque fois."
   ]
  },
  {
   "cell_type": "code",
   "execution_count": null,
   "metadata": {},
   "outputs": [],
   "source": [
    "sequencePHO = pj.read_fasta(\"regulatory_seq_PHO.fasta\")\n",
    "sequenceGAL = pj.read_fasta(\"regulatory_seqs_GAL.fasta\")\n",
    "sequenceMET = pj.read_fasta(\"regulatory_seqs_MET.fasta\")"
   ]
  },
  {
   "cell_type": "markdown",
   "metadata": {},
   "source": [
    "1a - Ecrire une fonction code(m, k) qui renvoie pour un mot m de taille k son\n",
    "indice dans le tableau ordonné lexicographiquement."
   ]
  },
  {
   "cell_type": "code",
   "execution_count": null,
   "metadata": {},
   "outputs": [
    {
     "data": {
      "text/plain": [
       "49"
      ]
     },
     "execution_count": 6,
     "metadata": {},
     "output_type": "execute_result"
    }
   ],
   "source": [
    "pj.code('TAC',3)"
   ]
  },
  {
   "cell_type": "markdown",
   "metadata": {},
   "source": [
    "1b - Ecrire la fonction inverse"
   ]
  },
  {
   "cell_type": "code",
   "execution_count": null,
   "metadata": {},
   "outputs": [
    {
     "data": {
      "text/plain": [
       "'TAC'"
      ]
     },
     "execution_count": 7,
     "metadata": {},
     "output_type": "execute_result"
    }
   ],
   "source": [
    "pj.inverse(49,3)"
   ]
  },
  {
   "cell_type": "markdown",
   "metadata": {},
   "source": [
    "1c - Ecrire la fonction qui compte le nombre d’occurrences pour tous les mots de\n",
    "taille k dans une séquence d’ADN."
   ]
  },
  {
   "cell_type": "code",
   "execution_count": null,
   "metadata": {},
   "outputs": [
    {
     "data": {
      "text/plain": [
       "{'AA': 88,\n",
       " 'AC': 39,\n",
       " 'AG': 35,\n",
       " 'AT': 81,\n",
       " 'CA': 51,\n",
       " 'CC': 23,\n",
       " 'CG': 20,\n",
       " 'CT': 55,\n",
       " 'GA': 33,\n",
       " 'GC': 30,\n",
       " 'GG': 20,\n",
       " 'GT': 41,\n",
       " 'TA': 72,\n",
       " 'TC': 57,\n",
       " 'TG': 48,\n",
       " 'TT': 106}"
      ]
     },
     "execution_count": 8,
     "metadata": {},
     "output_type": "execute_result"
    }
   ],
   "source": [
    "#Exemple pour k=2\n",
    "pj.count_word(2, sequenceMET[list(sequenceMET.keys())[0]])"
   ]
  },
  {
   "cell_type": "markdown",
   "metadata": {},
   "source": [
    "2 - Ecrire une fonction\n",
    "comptage_attendu qui prend en paramètres les fréquences des nucléotides, k, et\n",
    "la longueur du génome l et renvoie les comptages attendus pour tous les mots de\n",
    "longueur k."
   ]
  },
  {
   "cell_type": "markdown",
   "metadata": {},
   "source": [
    "Si on connait les fréquences des lettres dans le génome, alors le nombre attendu d’occurrences pour un mot $w$ dans une séquence de longueur $l$ se calcule de la manière suivante:\n",
    "On récupère le produit des fréquences de chaque nucléotide (les fréquences sont connues) que l'on multiplie à la taille $l$ de la séquence:\n",
    "\n",
    "$$l\\times \\prod_{nucleotide \\in w} frequence(nucleotide)$$"
   ]
  },
  {
   "cell_type": "code",
   "execution_count": null,
   "metadata": {
    "scrolled": true
   },
   "outputs": [
    {
     "data": {
      "text/plain": [
       "{'A': 25.0, 'C': 25.0, 'G': 49.0, 'T': 1.0}"
      ]
     },
     "execution_count": 9,
     "metadata": {},
     "output_type": "execute_result"
    }
   ],
   "source": [
    "pj.comptage_attendu([0.25,0.25,0.49,0.01], 1, 100)"
   ]
  },
  {
   "cell_type": "markdown",
   "metadata": {},
   "source": [
    "3 - Afficher avec un graphique 2D le nombre attendu d’occurrences sur l’axe des abcisses\n",
    "et le nombre observé sur l’axe des ordonnées pour tout les mots de longueur\n",
    "k pour les séquences PHO, GAL et MET."
   ]
  },
  {
   "cell_type": "code",
   "execution_count": null,
   "metadata": {},
   "outputs": [],
   "source": [
    "#preparation\n",
    "def completeSequence(sequence):\n",
    "    complet = []\n",
    "    for k in sequence.keys():\n",
    "        complet = complet + sequence[k]\n",
    "    sequence[\"complet\"] = complet\n",
    "\n",
    "completeSequence(sequencePHO)\n",
    "completeSequence(sequenceGAL)\n",
    "completeSequence(sequenceMET)"
   ]
  },
  {
   "cell_type": "code",
   "execution_count": null,
   "metadata": {},
   "outputs": [
    {
     "name": "stderr",
     "output_type": "stream",
     "text": [
      "C:\\Users\\Pierre\\Anaconda3\\lib\\site-packages\\matplotlib\\figure.py:2366: UserWarning: This figure includes Axes that are not compatible with tight_layout, so results might be incorrect.\n",
      "  warnings.warn(\"This figure includes Axes that are not compatible \"\n"
     ]
    },
    {
     "data": {
      "image/png": "[encoded data removed]",
      "text/plain": [
       "<Figure size 432x288 with 1 Axes>"
      ]
     },
     "metadata": {
      "needs_background": "light"
     },
     "output_type": "display_data"
    },
    {
     "name": "stderr",
     "output_type": "stream",
     "text": [
      "C:\\Users\\Pierre\\Anaconda3\\lib\\site-packages\\matplotlib\\figure.py:2366: UserWarning: This figure includes Axes that are not compatible with tight_layout, so results might be incorrect.\n",
      "  warnings.warn(\"This figure includes Axes that are not compatible \"\n"
     ]
    },
    {
     "data": {
      "image/png": "[encoded data removed]",
      "text/plain": [
       "<Figure size 432x288 with 1 Axes>"
      ]
     },
     "metadata": {
      "needs_background": "light"
     },
     "output_type": "display_data"
    },
    {
     "name": "stderr",
     "output_type": "stream",
     "text": [
      "C:\\Users\\Pierre\\Anaconda3\\lib\\site-packages\\matplotlib\\figure.py:2366: UserWarning: This figure includes Axes that are not compatible with tight_layout, so results might be incorrect.\n",
      "  warnings.warn(\"This figure includes Axes that are not compatible \"\n"
     ]
    },
    {
     "data": {
      "image/png": "[encoded data removed]",
      "text/plain": [
       "<Figure size 432x288 with 1 Axes>"
      ]
     },
     "metadata": {
      "needs_background": "light"
     },
     "output_type": "display_data"
    }
   ],
   "source": [
    "pj.graphique(2, sequencePHO[\"complet\"])\n",
    "pj.graphique(4, sequencePHO[\"complet\"])\n",
    "pj.graphique(6, sequencePHO[\"complet\"])\n",
    "pj.graphique(8, sequencePHO[\"complet\"])\n",
    "#On testera avec k = 2, 4, 6, 8."
   ]
  },
  {
   "cell_type": "markdown",
   "metadata": {},
   "source": [
    "##  Simulation de séquences aléatoires\n",
    "On veut évaluer la validité de nos calcul de probabilités empiriques à l’aide de simulations.\n",
    "On va simuler un grand nombre de séquences aléatoire et comparer la probabilité\n",
    "obtenue avec la valeur observée."
   ]
  },
  {
   "cell_type": "markdown",
   "metadata": {},
   "source": [
    "1 - Ecrire une fonction simule_sequence(lg, m) qui génère une séquence aléatoire\n",
    "de longueur lg d’une composition donnée m (proportion de A, C, G et T)."
   ]
  },
  {
   "cell_type": "code",
   "execution_count": null,
   "metadata": {},
   "outputs": [],
   "source": [
    "pj.count_word(1, pj.simule_sequence(100, [0.3, 0.01, 0.345, 0.345]))"
   ]
  },
  {
   "cell_type": "markdown",
   "metadata": {},
   "source": [
    "2 - Avec la fonction de simulation de séquences, simuler plusieurs séquences pour comparer le comptage attendu et le comptage observé."
   ]
  },
  {
   "cell_type": "code",
   "execution_count": null,
   "metadata": {},
   "outputs": [],
   "source": [
    "comparaisons = []\n",
    "for i in range(1000):\n",
    "    comparaisons.append(pj.compare(4, pj.simule_sequence(100, [0.3, 0.01, 0.345, 0.345])))\n",
    "np.mean([comparaisons])"
   ]
  },
  {
   "cell_type": "markdown",
   "metadata": {},
   "source": [
    "3 - Utilisez les simulations pour estimer\n",
    "la probabilité empirique des mots ATCTGC, ATATAT, TTTAAA ou AAAAAA."
   ]
  },
  {
   "cell_type": "code",
   "execution_count": null,
   "metadata": {},
   "outputs": [],
   "source": []
  },
  {
   "cell_type": "markdown",
   "metadata": {},
   "source": [
    "## Modèles de dinucléotides et trinucléotides"
   ]
  },
  {
   "cell_type": "markdown",
   "metadata": {},
   "source": [
    "2 - Ecrire une fonction qui estime M à partir des comptages des mots de longueur 2."
   ]
  },
  {
   "cell_type": "code",
   "execution_count": null,
   "metadata": {},
   "outputs": [],
   "source": [
    "estimeMatrice(sequencePHO[\"complet\"])"
   ]
  },
  {
   "cell_type": "code",
   "execution_count": null,
   "metadata": {},
   "outputs": [],
   "source": []
  },
  {
   "cell_type": "code",
   "execution_count": null,
   "metadata": {},
   "outputs": [],
   "source": []
  },
  {
   "cell_type": "code",
   "execution_count": null,
   "metadata": {},
   "outputs": [],
   "source": []
  },
  {
   "cell_type": "code",
   "execution_count": null,
   "metadata": {},
   "outputs": [],
   "source": []
  },
  {
   "cell_type": "code",
   "execution_count": null,
   "metadata": {},
   "outputs": [],
   "source": []
  },
  {
   "cell_type": "code",
   "execution_count": null,
   "metadata": {},
   "outputs": [],
   "source": []
  },
  {
   "cell_type": "code",
   "execution_count": null,
   "metadata": {},
   "outputs": [],
   "source": []
  },
  {
   "cell_type": "code",
   "execution_count": null,
   "metadata": {},
   "outputs": [],
   "source": []
  },
  {
   "cell_type": "code",
   "execution_count": null,
   "metadata": {},
   "outputs": [],
   "source": []
  },
  {
   "cell_type": "code",
   "execution_count": null,
   "metadata": {},
   "outputs": [],
   "source": []
  },
  {
   "cell_type": "code",
   "execution_count": null,
   "metadata": {},
   "outputs": [],
   "source": []
  },
  {
   "cell_type": "code",
   "execution_count": null,
   "metadata": {},
   "outputs": [],
   "source": []
  },
  {
   "cell_type": "code",
   "execution_count": null,
   "metadata": {},
   "outputs": [],
   "source": []
  }
 ],
 "metadata": {
  "kernelspec": {
   "display_name": "Python 3",
   "language": "python",
   "name": "python3"
  },
  "language_info": {
   "codemirror_mode": {
    "name": "ipython",
    "version": 3
   },
   "file_extension": ".py",
   "mimetype": "text/x-python",
   "name": "python",
   "nbconvert_exporter": "python",
   "pygments_lexer": "ipython3",
   "version": "3.7.1"
  }
 },
 "nbformat": 4,
 "nbformat_minor": 2
}
